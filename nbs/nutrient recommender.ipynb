{
 "cells": [
  {
   "cell_type": "code",
   "execution_count": 37,
   "metadata": {},
   "outputs": [],
   "source": [
    "import numpy as np\n",
    "import pandas as pd\n",
    "from scipy.spatial import distance\n",
    "\n",
    "from sklearn.neighbors import NearestNeighbors\n",
    "\n",
    "from sklearn.externals import joblib"
   ]
  },
  {
   "cell_type": "code",
   "execution_count": 38,
   "metadata": {},
   "outputs": [],
   "source": [
    "knn_model = joblib.load('knn.pkl')"
   ]
  },
  {
   "cell_type": "code",
   "execution_count": 39,
   "metadata": {},
   "outputs": [
    {
     "data": {
      "text/plain": [
       "Index(['Unnamed: 0', 'product_name', 'energy_100g', 'carbohydrates_100g',\n",
       "       'sugars_100g', 'proteins_100g', 'fat_100g', 'fiber_100g',\n",
       "       'cholesterol_100g'],\n",
       "      dtype='object')"
      ]
     },
     "execution_count": 39,
     "metadata": {},
     "output_type": "execute_result"
    }
   ],
   "source": [
    "nutrition_df = pd.read_csv('nutrition_values2.csv', header=0)\n",
    "nutrition_df.columns"
   ]
  },
  {
   "cell_type": "code",
   "execution_count": 40,
   "metadata": {},
   "outputs": [],
   "source": [
    "nutrition_values_df = nutrition_df.drop([\"product_name\", \"sugars_100g\",\"Unnamed: 0\"], axis=1)"
   ]
  },
  {
   "cell_type": "code",
   "execution_count": 41,
   "metadata": {},
   "outputs": [
    {
     "data": {
      "text/html": [
       "<div>\n",
       "<style scoped>\n",
       "    .dataframe tbody tr th:only-of-type {\n",
       "        vertical-align: middle;\n",
       "    }\n",
       "\n",
       "    .dataframe tbody tr th {\n",
       "        vertical-align: top;\n",
       "    }\n",
       "\n",
       "    .dataframe thead th {\n",
       "        text-align: right;\n",
       "    }\n",
       "</style>\n",
       "<table border=\"1\" class=\"dataframe\">\n",
       "  <thead>\n",
       "    <tr style=\"text-align: right;\">\n",
       "      <th></th>\n",
       "      <th>energy_100g</th>\n",
       "      <th>carbohydrates_100g</th>\n",
       "      <th>proteins_100g</th>\n",
       "      <th>fat_100g</th>\n",
       "      <th>fiber_100g</th>\n",
       "      <th>cholesterol_100g</th>\n",
       "    </tr>\n",
       "  </thead>\n",
       "  <tbody>\n",
       "    <tr>\n",
       "      <th>0</th>\n",
       "      <td>272.789289</td>\n",
       "      <td>37.464889</td>\n",
       "      <td>2.841556</td>\n",
       "      <td>13.439778</td>\n",
       "      <td>2.148889</td>\n",
       "      <td>0.00580</td>\n",
       "    </tr>\n",
       "    <tr>\n",
       "      <th>1</th>\n",
       "      <td>228.962000</td>\n",
       "      <td>10.710000</td>\n",
       "      <td>14.290000</td>\n",
       "      <td>14.290000</td>\n",
       "      <td>0.000000</td>\n",
       "      <td>0.05400</td>\n",
       "    </tr>\n",
       "    <tr>\n",
       "      <th>2</th>\n",
       "      <td>429.244000</td>\n",
       "      <td>41.280000</td>\n",
       "      <td>4.330000</td>\n",
       "      <td>23.397500</td>\n",
       "      <td>1.825000</td>\n",
       "      <td>0.00975</td>\n",
       "    </tr>\n",
       "    <tr>\n",
       "      <th>3</th>\n",
       "      <td>306.876000</td>\n",
       "      <td>43.360000</td>\n",
       "      <td>4.420000</td>\n",
       "      <td>12.390000</td>\n",
       "      <td>0.900000</td>\n",
       "      <td>0.11800</td>\n",
       "    </tr>\n",
       "    <tr>\n",
       "      <th>4</th>\n",
       "      <td>228.484000</td>\n",
       "      <td>22.507500</td>\n",
       "      <td>11.710000</td>\n",
       "      <td>9.602500</td>\n",
       "      <td>1.900000</td>\n",
       "      <td>0.08175</td>\n",
       "    </tr>\n",
       "  </tbody>\n",
       "</table>\n",
       "</div>"
      ],
      "text/plain": [
       "   energy_100g  carbohydrates_100g  proteins_100g   fat_100g  fiber_100g  \\\n",
       "0   272.789289           37.464889       2.841556  13.439778    2.148889   \n",
       "1   228.962000           10.710000      14.290000  14.290000    0.000000   \n",
       "2   429.244000           41.280000       4.330000  23.397500    1.825000   \n",
       "3   306.876000           43.360000       4.420000  12.390000    0.900000   \n",
       "4   228.484000           22.507500      11.710000   9.602500    1.900000   \n",
       "\n",
       "   cholesterol_100g  \n",
       "0           0.00580  \n",
       "1           0.05400  \n",
       "2           0.00975  \n",
       "3           0.11800  \n",
       "4           0.08175  "
      ]
     },
     "execution_count": 41,
     "metadata": {},
     "output_type": "execute_result"
    }
   ],
   "source": [
    "nutrition_values_df.head()"
   ]
  },
  {
   "cell_type": "code",
   "execution_count": 49,
   "metadata": {},
   "outputs": [
    {
     "data": {
      "text/plain": [
       "[[190.005, 19.05, 11.9, 7.14, 0.0, 0.024]]"
      ]
     },
     "execution_count": 49,
     "metadata": {},
     "output_type": "execute_result"
    }
   ],
   "source": [
    "dic = nutrition_values_df[nutrition_df['product_name'] == 'hamburger']\n",
    "d = dic.values.tolist()\n",
    "d"
   ]
  },
  {
   "cell_type": "code",
   "execution_count": 50,
   "metadata": {},
   "outputs": [
    {
     "data": {
      "text/plain": [
       "55    190.005\n",
       "Name: energy_100g, dtype: float64"
      ]
     },
     "execution_count": 50,
     "metadata": {},
     "output_type": "execute_result"
    }
   ],
   "source": [
    "dic['energy_100g']"
   ]
  },
  {
   "cell_type": "code",
   "execution_count": 48,
   "metadata": {
    "scrolled": true
   },
   "outputs": [
    {
     "data": {
      "text/plain": [
       "0           chocolate_cake\n",
       "1               cheesecake\n",
       "2                apple_pie\n",
       "3                dumplings\n",
       "4             spring_rolls\n",
       "5         chocolate_mousse\n",
       "6            chicken_wings\n",
       "7            frozen_yogurt\n",
       "8             deviled_eggs\n",
       "9                 pad_thai\n",
       "10           bread_pudding\n",
       "11                   ramen\n",
       "12                 hot_dog\n",
       "13          lobster_bisque\n",
       "14                   pizza\n",
       "15        huevos_rancheros\n",
       "16      chicken_quesadilla\n",
       "17           seaweed_salad\n",
       "18               ice_cream\n",
       "19              bruschetta\n",
       "20            french_toast\n",
       "21    strawberry_shortcake\n",
       "22                  hummus\n",
       "23                pancakes\n",
       "24                scallops\n",
       "25                tiramisu\n",
       "26               miso_soup\n",
       "27                 mussels\n",
       "28          baby_back_ribs\n",
       "29           chicken_curry\n",
       "30       breakfast_burrito\n",
       "31                 lasagna\n",
       "32           caprese_salad\n",
       "33            creme_brulee\n",
       "34         red_velvet_cake\n",
       "35                 edamame\n",
       "36                  paella\n",
       "37          grilled_salmon\n",
       "38                  donuts\n",
       "39     spaghetti_bolognese\n",
       "40                 churros\n",
       "41               guacamole\n",
       "42                 baklava\n",
       "43              crab_cakes\n",
       "44                 falafel\n",
       "45                 risotto\n",
       "46                 ravioli\n",
       "47                 waffles\n",
       "48                 gnocchi\n",
       "49     macaroni_and_cheese\n",
       "50            garlic_bread\n",
       "51       french_onion_soup\n",
       "52            clam_chowder\n",
       "53             greek_salad\n",
       "54             carrot_cake\n",
       "55               hamburger\n",
       "56            french_fries\n",
       "57             onion_rings\n",
       "58            caesar_salad\n",
       "Name: product_name, dtype: object"
      ]
     },
     "execution_count": 48,
     "metadata": {},
     "output_type": "execute_result"
    }
   ],
   "source": [
    "nutrition_df['product_name']"
   ]
  },
  {
   "cell_type": "code",
   "execution_count": 51,
   "metadata": {},
   "outputs": [],
   "source": [
    "distances, indices = knn_model.kneighbors(d, n_neighbors=5)\n",
    "recommended_products = [nutrition_df.loc[i]['product_name'] for i in indices[0]]"
   ]
  },
  {
   "cell_type": "code",
   "execution_count": 52,
   "metadata": {},
   "outputs": [
    {
     "name": "stdout",
     "output_type": "stream",
     "text": [
      "['hamburger', 'seaweed_salad', 'churros', 'donuts', 'hummus']\n"
     ]
    }
   ],
   "source": [
    "print (recommended_products)"
   ]
  },
  {
   "cell_type": "code",
   "execution_count": null,
   "metadata": {},
   "outputs": [],
   "source": []
  }
 ],
 "metadata": {
  "kernelspec": {
   "display_name": "Python 3",
   "language": "python",
   "name": "python3"
  },
  "language_info": {
   "codemirror_mode": {
    "name": "ipython",
    "version": 3
   },
   "file_extension": ".py",
   "mimetype": "text/x-python",
   "name": "python",
   "nbconvert_exporter": "python",
   "pygments_lexer": "ipython3",
   "version": "3.6.5"
  }
 },
 "nbformat": 4,
 "nbformat_minor": 2
}
