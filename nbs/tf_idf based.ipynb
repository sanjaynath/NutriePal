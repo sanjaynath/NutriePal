{
 "cells": [
  {
   "cell_type": "code",
   "execution_count": 1,
   "metadata": {},
   "outputs": [],
   "source": [
    "import recipes\n",
    "recipe = recipes.recipe\n",
    "import pickle"
   ]
  },
  {
   "cell_type": "code",
   "execution_count": 2,
   "metadata": {},
   "outputs": [],
   "source": [
    "with open('recipe_recommendations.pkl', 'rb') as f:\n",
    "    r = pickle.load(f)"
   ]
  },
  {
   "cell_type": "code",
   "execution_count": 3,
   "metadata": {},
   "outputs": [],
   "source": [
    "# food contains names of all 101 categories\n",
    "i=0\n",
    "idx_food = {}             # Names of food item\n",
    "food_idx = {}\n",
    "for key in recipe:\n",
    "    idx_food[i] = key\n",
    "    food_idx[key] = i\n",
    "    i=i+1"
   ]
  },
  {
   "cell_type": "code",
   "execution_count": 4,
   "metadata": {},
   "outputs": [],
   "source": [
    "import re\n",
    "import heapq\n",
    "import numpy as np\n",
    "import matplotlib.pyplot as plt\n",
    "import nltk\n",
    "from nltk.corpus import stopwords\n",
    "stopwords = set(stopwords.words('english'))\n",
    "from sklearn.feature_extraction.text import TfidfVectorizer\n",
    "from sklearn.metrics.pairwise import cosine_similarity"
   ]
  },
  {
   "cell_type": "code",
   "execution_count": 5,
   "metadata": {},
   "outputs": [],
   "source": [
    "corpus = []\n",
    "for key in recipe:\n",
    "    corpus.append([recipe[key]]) "
   ]
  },
  {
   "cell_type": "code",
   "execution_count": 6,
   "metadata": {},
   "outputs": [
    {
     "data": {
      "text/plain": [
       "101"
      ]
     },
     "execution_count": 6,
     "metadata": {},
     "output_type": "execute_result"
    }
   ],
   "source": [
    "len(corpus)"
   ]
  },
  {
   "cell_type": "code",
   "execution_count": 7,
   "metadata": {},
   "outputs": [],
   "source": [
    "#corpus[0][0]"
   ]
  },
  {
   "cell_type": "code",
   "execution_count": 8,
   "metadata": {},
   "outputs": [],
   "source": [
    "corpora = []\n",
    "\n",
    "for item in corpus:\n",
    "    item[0] = item[0].lower()\n",
    "    item[0] = re.sub(r\"[^a-zA-Z]\",' ',item[0])\n",
    "    item[0] = item[0].split()\n",
    "    item[0] = [i for i in item[0] if i not in stopwords]\n",
    "    item[0] = [i for i in item[0] if len(i)>2]\n",
    "    item[0] = ' '.join(item[0])\n",
    "    corpora.append(item[0])"
   ]
  },
  {
   "cell_type": "code",
   "execution_count": 9,
   "metadata": {},
   "outputs": [
    {
     "data": {
      "text/plain": [
       "(101, 1735)"
      ]
     },
     "execution_count": 9,
     "metadata": {},
     "output_type": "execute_result"
    }
   ],
   "source": [
    "tfidf = TfidfVectorizer()\n",
    "X = tfidf.fit_transform(corpora).toarray()\n",
    "X.shape"
   ]
  },
  {
   "cell_type": "code",
   "execution_count": 10,
   "metadata": {},
   "outputs": [],
   "source": [
    "with open('tf_idf.pkl', 'wb') as f:\n",
    "    pickle.dump(X,f)"
   ]
  },
  {
   "cell_type": "code",
   "execution_count": 11,
   "metadata": {
    "scrolled": true
   },
   "outputs": [],
   "source": [
    "recommended = []\n",
    "for i in range(0,101):\n",
    "    y = tfidf.transform([corpora[i]]).toarray()\n",
    "    q = cosine_similarity(X,y)\n",
    "    a = heapq.nlargest(4,range(len(q)),q.take)\n",
    "    recommended.append(a)\n",
    "    \n",
    "#recommended = recommended[::][:3]\n",
    "recommended\n",
    "with open('recipe_recommendations.pkl', 'wb') as f:\n",
    "    pickle.dump(recommended, f)"
   ]
  },
  {
   "cell_type": "code",
   "execution_count": 12,
   "metadata": {},
   "outputs": [],
   "source": [
    "recommended_names = []\n",
    "for item in recommended:\n",
    "    recommended_names.append([idx_food[i] for i in item])\n",
    "recommended_names[food_idx['samosa']]\n",
    "recommended_names\n",
    "with open('recipe_recommendations_names.pkl', 'wb') as f:\n",
    "    pickle.dump(recommended_names, f)"
   ]
  },
  {
   "cell_type": "code",
   "execution_count": 13,
   "metadata": {},
   "outputs": [],
   "source": [
    "food_idx['samosa']\n",
    "food_idx\n",
    "with open('food_indices.pkl', 'wb') as f:\n",
    "    pickle.dump(food_idx, f)"
   ]
  },
  {
   "cell_type": "code",
   "execution_count": 14,
   "metadata": {},
   "outputs": [],
   "source": [
    "with open('food_indices.pkl', 'rb') as f:\n",
    "    food = pickle.load(f)"
   ]
  },
  {
   "cell_type": "code",
   "execution_count": 15,
   "metadata": {
    "scrolled": true
   },
   "outputs": [
    {
     "data": {
      "text/plain": [
       "[85, 2, 92, 0]"
      ]
     },
     "execution_count": 15,
     "metadata": {},
     "output_type": "execute_result"
    }
   ],
   "source": [
    "r[food['samosa']]"
   ]
  },
  {
   "cell_type": "code",
   "execution_count": 16,
   "metadata": {},
   "outputs": [],
   "source": [
    "with open('recipe_recommendations_names.pkl', 'rb') as f:\n",
    "    rname = pickle.load(f)"
   ]
  },
  {
   "cell_type": "code",
   "execution_count": 21,
   "metadata": {
    "scrolled": true
   },
   "outputs": [
    {
     "data": {
      "text/plain": [
       "['edamame', 'ice_cream', 'breakfast_burrito', 'deviled_eggs']"
      ]
     },
     "execution_count": 21,
     "metadata": {},
     "output_type": "execute_result"
    }
   ],
   "source": [
    "rname[food['edamame']]"
   ]
  },
  {
   "cell_type": "code",
   "execution_count": null,
   "metadata": {},
   "outputs": [],
   "source": []
  }
 ],
 "metadata": {
  "kernelspec": {
   "display_name": "Python 3",
   "language": "python",
   "name": "python3"
  },
  "language_info": {
   "codemirror_mode": {
    "name": "ipython",
    "version": 3
   },
   "file_extension": ".py",
   "mimetype": "text/x-python",
   "name": "python",
   "nbconvert_exporter": "python",
   "pygments_lexer": "ipython3",
   "version": "3.6.5"
  }
 },
 "nbformat": 4,
 "nbformat_minor": 2
}
