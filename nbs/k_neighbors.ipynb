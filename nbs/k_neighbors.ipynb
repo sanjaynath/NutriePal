{
 "cells": [
  {
   "cell_type": "code",
   "execution_count": 31,
   "metadata": {},
   "outputs": [],
   "source": [
    "import numpy as np\n",
    "import pandas as pd\n",
    "from scipy.spatial import distance\n",
    "\n",
    "from sklearn.neighbors import NearestNeighbors\n",
    "\n",
    "from sklearn.externals import joblib"
   ]
  },
  {
   "cell_type": "code",
   "execution_count": 32,
   "metadata": {},
   "outputs": [],
   "source": [
    "data_file = \"nutrition_values2.csv\"\n",
    "model_file = \"knn.pkl\""
   ]
  },
  {
   "cell_type": "code",
   "execution_count": 33,
   "metadata": {},
   "outputs": [
    {
     "data": {
      "text/plain": [
       "Index(['Unnamed: 0', 'product_name', 'energy_100g', 'carbohydrates_100g',\n",
       "       'sugars_100g', 'proteins_100g', 'fat_100g', 'fiber_100g',\n",
       "       'cholesterol_100g'],\n",
       "      dtype='object')"
      ]
     },
     "execution_count": 33,
     "metadata": {},
     "output_type": "execute_result"
    }
   ],
   "source": [
    "nutrition_df = pd.read_csv(data_file, header=0)\n",
    "nutrition_df.columns"
   ]
  },
  {
   "cell_type": "code",
   "execution_count": 35,
   "metadata": {},
   "outputs": [],
   "source": [
    "nutrition_values_df = nutrition_df.drop([\"product_name\", \"sugars_100g\",\"Unnamed: 0\"], axis=1)"
   ]
  },
  {
   "cell_type": "code",
   "execution_count": 36,
   "metadata": {},
   "outputs": [
    {
     "data": {
      "text/html": [
       "<div>\n",
       "<style scoped>\n",
       "    .dataframe tbody tr th:only-of-type {\n",
       "        vertical-align: middle;\n",
       "    }\n",
       "\n",
       "    .dataframe tbody tr th {\n",
       "        vertical-align: top;\n",
       "    }\n",
       "\n",
       "    .dataframe thead th {\n",
       "        text-align: right;\n",
       "    }\n",
       "</style>\n",
       "<table border=\"1\" class=\"dataframe\">\n",
       "  <thead>\n",
       "    <tr style=\"text-align: right;\">\n",
       "      <th></th>\n",
       "      <th>energy_100g</th>\n",
       "      <th>carbohydrates_100g</th>\n",
       "      <th>proteins_100g</th>\n",
       "      <th>fat_100g</th>\n",
       "      <th>fiber_100g</th>\n",
       "      <th>cholesterol_100g</th>\n",
       "    </tr>\n",
       "  </thead>\n",
       "  <tbody>\n",
       "    <tr>\n",
       "      <th>0</th>\n",
       "      <td>272.789289</td>\n",
       "      <td>37.464889</td>\n",
       "      <td>2.841556</td>\n",
       "      <td>13.439778</td>\n",
       "      <td>2.148889</td>\n",
       "      <td>0.00580</td>\n",
       "    </tr>\n",
       "    <tr>\n",
       "      <th>1</th>\n",
       "      <td>228.962000</td>\n",
       "      <td>10.710000</td>\n",
       "      <td>14.290000</td>\n",
       "      <td>14.290000</td>\n",
       "      <td>0.000000</td>\n",
       "      <td>0.05400</td>\n",
       "    </tr>\n",
       "    <tr>\n",
       "      <th>2</th>\n",
       "      <td>429.244000</td>\n",
       "      <td>41.280000</td>\n",
       "      <td>4.330000</td>\n",
       "      <td>23.397500</td>\n",
       "      <td>1.825000</td>\n",
       "      <td>0.00975</td>\n",
       "    </tr>\n",
       "    <tr>\n",
       "      <th>3</th>\n",
       "      <td>306.876000</td>\n",
       "      <td>43.360000</td>\n",
       "      <td>4.420000</td>\n",
       "      <td>12.390000</td>\n",
       "      <td>0.900000</td>\n",
       "      <td>0.11800</td>\n",
       "    </tr>\n",
       "    <tr>\n",
       "      <th>4</th>\n",
       "      <td>228.484000</td>\n",
       "      <td>22.507500</td>\n",
       "      <td>11.710000</td>\n",
       "      <td>9.602500</td>\n",
       "      <td>1.900000</td>\n",
       "      <td>0.08175</td>\n",
       "    </tr>\n",
       "  </tbody>\n",
       "</table>\n",
       "</div>"
      ],
      "text/plain": [
       "   energy_100g  carbohydrates_100g  proteins_100g   fat_100g  fiber_100g  \\\n",
       "0   272.789289           37.464889       2.841556  13.439778    2.148889   \n",
       "1   228.962000           10.710000      14.290000  14.290000    0.000000   \n",
       "2   429.244000           41.280000       4.330000  23.397500    1.825000   \n",
       "3   306.876000           43.360000       4.420000  12.390000    0.900000   \n",
       "4   228.484000           22.507500      11.710000   9.602500    1.900000   \n",
       "\n",
       "   cholesterol_100g  \n",
       "0           0.00580  \n",
       "1           0.05400  \n",
       "2           0.00975  \n",
       "3           0.11800  \n",
       "4           0.08175  "
      ]
     },
     "execution_count": 36,
     "metadata": {},
     "output_type": "execute_result"
    }
   ],
   "source": [
    "nutrition_values_df.head()"
   ]
  },
  {
   "cell_type": "code",
   "execution_count": 44,
   "metadata": {},
   "outputs": [
    {
     "data": {
      "text/html": [
       "<div>\n",
       "<style scoped>\n",
       "    .dataframe tbody tr th:only-of-type {\n",
       "        vertical-align: middle;\n",
       "    }\n",
       "\n",
       "    .dataframe tbody tr th {\n",
       "        vertical-align: top;\n",
       "    }\n",
       "\n",
       "    .dataframe thead th {\n",
       "        text-align: right;\n",
       "    }\n",
       "</style>\n",
       "<table border=\"1\" class=\"dataframe\">\n",
       "  <thead>\n",
       "    <tr style=\"text-align: right;\">\n",
       "      <th></th>\n",
       "      <th>energy_100g</th>\n",
       "      <th>carbohydrates_100g</th>\n",
       "      <th>proteins_100g</th>\n",
       "      <th>fat_100g</th>\n",
       "      <th>fiber_100g</th>\n",
       "      <th>cholesterol_100g</th>\n",
       "    </tr>\n",
       "  </thead>\n",
       "  <tbody>\n",
       "    <tr>\n",
       "      <th>9</th>\n",
       "      <td>331.176325</td>\n",
       "      <td>36.938</td>\n",
       "      <td>4.79875</td>\n",
       "      <td>18.691</td>\n",
       "      <td>1.3825</td>\n",
       "      <td>0.0609</td>\n",
       "    </tr>\n",
       "  </tbody>\n",
       "</table>\n",
       "</div>"
      ],
      "text/plain": [
       "   energy_100g  carbohydrates_100g  proteins_100g  fat_100g  fiber_100g  \\\n",
       "9   331.176325              36.938        4.79875    18.691      1.3825   \n",
       "\n",
       "   cholesterol_100g  \n",
       "9            0.0609  "
      ]
     },
     "execution_count": 44,
     "metadata": {},
     "output_type": "execute_result"
    }
   ],
   "source": [
    "nutrition_values_df[nutrition_df['product_name'] == 'pad_thai']"
   ]
  },
  {
   "cell_type": "code",
   "execution_count": 39,
   "metadata": {},
   "outputs": [],
   "source": [
    "def nutricional_metric(u,v):\n",
    "    return distance.euclidean(u,v) #+ np.sum(np.max(v - u), 0)"
   ]
  },
  {
   "cell_type": "markdown",
   "metadata": {},
   "source": [
    "## Save KNN Model"
   ]
  },
  {
   "cell_type": "code",
   "execution_count": 40,
   "metadata": {},
   "outputs": [
    {
     "data": {
      "text/plain": [
       "['knn.pkl']"
      ]
     },
     "execution_count": 40,
     "metadata": {},
     "output_type": "execute_result"
    }
   ],
   "source": [
    "# X = np.array([[-1, -1], [-2, -1], [-3, -2], [1, 1], [2, 1], [3, 2]])\n",
    "nbrs = NearestNeighbors(n_neighbors=5,\n",
    "                        algorithm='ball_tree',\n",
    "                        metric='euclidean').fit(nutrition_values_df)\n",
    "\n",
    "joblib.dump(nbrs, model_file) \n"
   ]
  },
  {
   "cell_type": "code",
   "execution_count": 41,
   "metadata": {},
   "outputs": [],
   "source": [
    "distances, indices = nbrs.kneighbors([[308, 41, 5, 13, 2, 0]], n_neighbors=5)\n",
    "\n",
    "\n",
    "recommended_products = [nutrition_df.loc[i]['product_name'] for i in indices[0]]"
   ]
  },
  {
   "cell_type": "code",
   "execution_count": 42,
   "metadata": {},
   "outputs": [
    {
     "name": "stdout",
     "output_type": "stream",
     "text": [
      "['french_fries', 'dumplings', 'pad_thai', 'onion_rings', 'baby_back_ribs']\n"
     ]
    }
   ],
   "source": [
    "print (recommended_products)"
   ]
  },
  {
   "cell_type": "code",
   "execution_count": 24,
   "metadata": {},
   "outputs": [],
   "source": [
    "??nbrs.kneighbors"
   ]
  },
  {
   "cell_type": "code",
   "execution_count": null,
   "metadata": {},
   "outputs": [],
   "source": []
  }
 ],
 "metadata": {
  "kernelspec": {
   "display_name": "Python 3",
   "language": "python",
   "name": "python3"
  },
  "language_info": {
   "codemirror_mode": {
    "name": "ipython",
    "version": 3
   },
   "file_extension": ".py",
   "mimetype": "text/x-python",
   "name": "python",
   "nbconvert_exporter": "python",
   "pygments_lexer": "ipython3",
   "version": "3.6.5"
  }
 },
 "nbformat": 4,
 "nbformat_minor": 2
}
